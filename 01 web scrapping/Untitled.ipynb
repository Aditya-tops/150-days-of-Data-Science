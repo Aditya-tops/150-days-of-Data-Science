{
 "cells": [
  {
   "cell_type": "code",
   "execution_count": 14,
   "id": "d03da1dc-bad8-41a7-9292-904bf913d45f",
   "metadata": {},
   "outputs": [],
   "source": [
    "import requests\n",
    "from bs4 import BeautifulSoup \n",
    "from urllib.request import urlopen as uReq"
   ]
  },
  {
   "cell_type": "code",
   "execution_count": 15,
   "id": "07d1b072-061a-4b96-a2f3-865e9bc7f56c",
   "metadata": {},
   "outputs": [],
   "source": [
    "flipcart_url = \"https://www.flipkart.com/search?q=\" + \"iphone12pro\""
   ]
  },
  {
   "cell_type": "code",
   "execution_count": 16,
   "id": "c9351a19-c5ab-4d14-a9aa-b6ff13d27968",
   "metadata": {},
   "outputs": [
    {
     "data": {
      "text/plain": [
       "'https://www.flipkart.com/search?q=iphone12pro'"
      ]
     },
     "execution_count": 16,
     "metadata": {},
     "output_type": "execute_result"
    }
   ],
   "source": [
    "flipcart_url"
   ]
  },
  {
   "cell_type": "code",
   "execution_count": 17,
   "id": "890fabd7-a4ff-41f9-837c-b85f27bb95d8",
   "metadata": {},
   "outputs": [],
   "source": [
    "urlclient = uReq(flipcart_url)"
   ]
  },
  {
   "cell_type": "code",
   "execution_count": 18,
   "id": "c1f297ad-9bc9-418b-ad99-48fddee46869",
   "metadata": {},
   "outputs": [
    {
     "data": {
      "text/plain": [
       "<http.client.HTTPResponse at 0x27f2beaf9a0>"
      ]
     },
     "execution_count": 18,
     "metadata": {},
     "output_type": "execute_result"
    }
   ],
   "source": [
    "urlclient"
   ]
  },
  {
   "cell_type": "code",
   "execution_count": 19,
   "id": "d6e3fbc6-1888-4220-944b-50729d88d8ee",
   "metadata": {},
   "outputs": [],
   "source": [
    "flipcart_page = urlclient.read()"
   ]
  },
  {
   "cell_type": "code",
   "execution_count": 20,
   "id": "79a32509-dc2f-4044-baf8-6e1b41e267c2",
   "metadata": {},
   "outputs": [],
   "source": [
    "flipcart_html = BeautifulSoup(flipcart_page,'html.parser')"
   ]
  },
  {
   "cell_type": "code",
   "execution_count": 21,
   "id": "92e616e5-d575-4e90-a214-d88d6cfcc67c",
   "metadata": {},
   "outputs": [
    {
     "data": {
      "text/plain": [
       "'https://www.flipkart.com/apple-iphone-12-pro-silver-256-gb/p/itm41ac927e82906?pid=MOBFWBYZMZTJZTWK&lid=LSTMOBFWBYZMZTJZTWKDI2TP0&marketplace=FLIPKART&q=iphone12pro&store=tyy%2F4io&srno=s_1_1&otracker=search&fm=organic&iid=360d25b1-d6f1-4263-bbe4-1750c7a46b6a.MOBFWBYZMZTJZTWK.SEARCH&ppt=None&ppn=None&ssid=x9q8bpbo680000001752588928862&qH=712933e6bd68e7b9'"
      ]
     },
     "execution_count": 21,
     "metadata": {},
     "output_type": "execute_result"
    }
   ],
   "source": [
    "\"https://www.flipkart.com/\" + \"apple-iphone-12-pro-silver-256-gb/p/itm41ac927e82906?pid=MOBFWBYZMZTJZTWK&lid=LSTMOBFWBYZMZTJZTWKDI2TP0&marketplace=FLIPKART&q=iphone12pro&store=tyy%2F4io&srno=s_1_1&otracker=search&fm=organic&iid=360d25b1-d6f1-4263-bbe4-1750c7a46b6a.MOBFWBYZMZTJZTWK.SEARCH&ppt=None&ppn=None&ssid=x9q8bpbo680000001752588928862&qH=712933e6bd68e7b9\""
   ]
  },
  {
   "cell_type": "code",
   "execution_count": 23,
   "id": "6bb6fec8-da5b-4a4c-b49a-6f67e718c5ba",
   "metadata": {},
   "outputs": [
    {
     "name": "stderr",
     "output_type": "stream",
     "text": [
      "C:\\Users\\PC15\\AppData\\Local\\Temp\\ipykernel_11344\\3716412476.py:1: DeprecationWarning: Call to deprecated method findAll. (Replaced by find_all) -- Deprecated since version 4.0.0.\n",
      "  bigbox = flipcart_html.findAll(\"div\",{\"class\":\"cPHDOP col-12-12\"})\n"
     ]
    }
   ],
   "source": [
    "bigbox = flipcart_html.findAll(\"div\",{\"class\":\"cPHDOP col-12-12\"})"
   ]
  },
  {
   "cell_type": "code",
   "execution_count": 36,
   "id": "0bb0440b-0960-4e6f-848a-1c3983da7108",
   "metadata": {},
   "outputs": [
    {
     "data": {
      "text/plain": [
       "'/apple-iphone-12-pro-silver-256-gb/p/itm41ac927e82906?pid=MOBFWBYZMZTJZTWK&lid=LSTMOBFWBYZMZTJZTWKDI2TP0&marketplace=FLIPKART&q=iphone12pro&store=tyy%2F4io&srno=s_1_2&otracker=search&fm=organic&iid=5d65d8f8-fce6-41f3-96de-984962320002.MOBFWBYZMZTJZTWK.SEARCH&ppt=None&ppn=None&ssid=7pkit83uj40000001752589452942&qH=712933e6bd68e7b9'"
      ]
     },
     "execution_count": 36,
     "metadata": {},
     "output_type": "execute_result"
    }
   ],
   "source": [
    "bigbox[3].div.div.div.a[\"href\"]"
   ]
  },
  {
   "cell_type": "code",
   "execution_count": 24,
   "id": "2f831879-f104-4736-ab2a-b9d61ca55270",
   "metadata": {},
   "outputs": [
    {
     "data": {
      "text/plain": [
       "29"
      ]
     },
     "execution_count": 24,
     "metadata": {},
     "output_type": "execute_result"
    }
   ],
   "source": [
    "len(bigbox)"
   ]
  },
  {
   "cell_type": "code",
   "execution_count": 40,
   "id": "e5d476d2-d60a-414d-9e4d-ffca941dbc36",
   "metadata": {},
   "outputs": [],
   "source": [
    "del bigbox[0:3]"
   ]
  },
  {
   "cell_type": "code",
   "execution_count": 73,
   "id": "b5726706-d89e-419e-b65f-e3b5a0a951b0",
   "metadata": {},
   "outputs": [],
   "source": [
    "productlink = \"https://www.flipkart.com\" + bigbox[3].div.div.div.a[\"href\"]"
   ]
  },
  {
   "cell_type": "code",
   "execution_count": 74,
   "id": "aa711656-8868-4ffb-a0cf-4c057846a54f",
   "metadata": {},
   "outputs": [],
   "source": [
    "product_req = requests.get(productlink)"
   ]
  },
  {
   "cell_type": "code",
   "execution_count": 75,
   "id": "671b855c-bd3f-47bd-9c43-3bb3d7c26545",
   "metadata": {},
   "outputs": [
    {
     "data": {
      "text/plain": [
       "'https://www.flipkart.com/apple-iphone-12-pro-gold-128-gb/p/itma14a108237af5?pid=MOBFWBYZMDJZMHA9&lid=LSTMOBFWBYZMDJZMHA9SVNUXV&marketplace=FLIPKART&q=iphone12pro&store=tyy%2F4io&srno=s_1_5&otracker=search&fm=organic&iid=5d65d8f8-fce6-41f3-96de-984962320002.MOBFWBYZMDJZMHA9.SEARCH&ppt=None&ppn=None&ssid=7pkit83uj40000001752589452942&qH=712933e6bd68e7b9'"
      ]
     },
     "execution_count": 75,
     "metadata": {},
     "output_type": "execute_result"
    }
   ],
   "source": [
    "productlink "
   ]
  },
  {
   "cell_type": "code",
   "execution_count": 76,
   "id": "671d03aa-e895-44e7-b7e3-f6ebd25f2a4b",
   "metadata": {},
   "outputs": [],
   "source": [
    "product_html = BeautifulSoup(product_req.text,\"html.parser\")"
   ]
  },
  {
   "cell_type": "code",
   "execution_count": 77,
   "id": "c53e7937-832e-4a15-a5f6-d75987ee8bfc",
   "metadata": {},
   "outputs": [
    {
     "name": "stderr",
     "output_type": "stream",
     "text": [
      "C:\\Users\\PC15\\AppData\\Local\\Temp\\ipykernel_11344\\3740588970.py:1: DeprecationWarning: Call to deprecated method findAll. (Replaced by find_all) -- Deprecated since version 4.0.0.\n",
      "  comment_box = product_html.findAll(\"div\",{\"class\":\"EPCmJX\"})\n"
     ]
    }
   ],
   "source": [
    "comment_box = product_html.findAll(\"div\",{\"class\":\"EPCmJX\"})"
   ]
  },
  {
   "cell_type": "code",
   "execution_count": 81,
   "id": "6f2a0223-c5ac-4982-99b1-def51e575024",
   "metadata": {},
   "outputs": [
    {
     "data": {
      "text/plain": [
       "10"
      ]
     },
     "execution_count": 81,
     "metadata": {},
     "output_type": "execute_result"
    }
   ],
   "source": [
    "len(comment_box)"
   ]
  },
  {
   "cell_type": "code",
   "execution_count": 102,
   "id": "d91bbb5a-aee1-48ed-acc6-81f205e42b3e",
   "metadata": {},
   "outputs": [
    {
     "data": {
      "text/plain": [
       "[<p class=\"z9E0IG\">Simply awesome</p>]"
      ]
     },
     "execution_count": 102,
     "metadata": {},
     "output_type": "execute_result"
    }
   ],
   "source": [
    "comment_box[0].div.find_all('p',{\"class\":\"z9E0IG\"})"
   ]
  },
  {
   "cell_type": "code",
   "execution_count": 99,
   "id": "b41abcd4-b2f7-46b4-aaaf-d678602176ac",
   "metadata": {},
   "outputs": [
    {
     "ename": "_IncompleteInputError",
     "evalue": "incomplete input (1022992185.py, line 2)",
     "output_type": "error",
     "traceback": [
      "\u001b[1;36m  Cell \u001b[1;32mIn[99], line 2\u001b[1;36m\u001b[0m\n\u001b[1;33m    print(\"https://www.flipkart.com\" + i.comment_box.div.div.div.a[\"href\"]\u001b[0m\n\u001b[1;37m                                                                          ^\u001b[0m\n\u001b[1;31m_IncompleteInputError\u001b[0m\u001b[1;31m:\u001b[0m incomplete input\n"
     ]
    }
   ],
   "source": [
    "for i in comment_box:\n",
    "    print(\"https://www.flipkart.com\" + i.product_comment.div.div.div.a[\"href\"]"
   ]
  },
  {
   "cell_type": "code",
   "execution_count": 46,
   "id": "39344545-2a99-45f9-abc5-95d98874ff33",
   "metadata": {},
   "outputs": [
    {
     "name": "stdout",
     "output_type": "stream",
     "text": [
      "https://www.flipkart.com/apple-iphone-12-pro-silver-256-gb/p/itm41ac927e82906?pid=MOBFWBYZMZTJZTWK&lid=LSTMOBFWBYZMZTJZTWKDI2TP0&marketplace=FLIPKART&q=iphone12pro&store=tyy%2F4io&srno=s_1_2&otracker=search&fm=organic&iid=5d65d8f8-fce6-41f3-96de-984962320002.MOBFWBYZMZTJZTWK.SEARCH&ppt=None&ppn=None&ssid=7pkit83uj40000001752589452942&qH=712933e6bd68e7b9\n",
      "https://www.flipkart.com/apple-iphone-12-pro-pacific-blue-512-gb/p/itm8a39d6779b04e?pid=MOBFWBYZTHSXKMGW&lid=LSTMOBFWBYZTHSXKMGWYPOFI5&marketplace=FLIPKART&q=iphone12pro&store=tyy%2F4io&srno=s_1_3&otracker=search&fm=organic&iid=5d65d8f8-fce6-41f3-96de-984962320002.MOBFWBYZTHSXKMGW.SEARCH&ppt=None&ppn=None&ssid=7pkit83uj40000001752589452942&qH=712933e6bd68e7b9\n",
      "https://www.flipkart.com/apple-iphone-12-pro-graphite-256-gb/p/itm4fa4da575698c?pid=MOBFWBYZBA36UB7G&lid=LSTMOBFWBYZBA36UB7GZYS7EA&marketplace=FLIPKART&q=iphone12pro&store=tyy%2F4io&srno=s_1_4&otracker=search&fm=organic&iid=5d65d8f8-fce6-41f3-96de-984962320002.MOBFWBYZBA36UB7G.SEARCH&ppt=None&ppn=None&ssid=7pkit83uj40000001752589452942&qH=712933e6bd68e7b9\n",
      "https://www.flipkart.com/apple-iphone-12-pro-gold-128-gb/p/itma14a108237af5?pid=MOBFWBYZMDJZMHA9&lid=LSTMOBFWBYZMDJZMHA9SVNUXV&marketplace=FLIPKART&q=iphone12pro&store=tyy%2F4io&srno=s_1_5&otracker=search&fm=organic&iid=5d65d8f8-fce6-41f3-96de-984962320002.MOBFWBYZMDJZMHA9.SEARCH&ppt=None&ppn=None&ssid=7pkit83uj40000001752589452942&qH=712933e6bd68e7b9\n",
      "https://www.flipkart.com/apple-iphone-12-pro-silver-512-gb/p/itm0ccf9fc219a71?pid=MOBFWBYZ5UY6ZBVA&lid=LSTMOBFWBYZ5UY6ZBVAWNVLCR&marketplace=FLIPKART&q=iphone12pro&store=tyy%2F4io&srno=s_1_6&otracker=search&fm=organic&iid=5d65d8f8-fce6-41f3-96de-984962320002.MOBFWBYZ5UY6ZBVA.SEARCH&ppt=None&ppn=None&ssid=7pkit83uj40000001752589452942&qH=712933e6bd68e7b9\n",
      "https://www.flipkart.com/apple-iphone-12-pro-pacific-blue-256-gb/p/itmea897274baa30?pid=MOBFWBYZVRPH2UCD&lid=LSTMOBFWBYZVRPH2UCDKBB2PK&marketplace=FLIPKART&q=iphone12pro&store=tyy%2F4io&srno=s_1_7&otracker=search&fm=organic&iid=5d65d8f8-fce6-41f3-96de-984962320002.MOBFWBYZVRPH2UCD.SEARCH&ppt=None&ppn=None&ssid=7pkit83uj40000001752589452942&qH=712933e6bd68e7b9\n",
      "https://www.flipkart.com/apple-iphone-12-pro-graphite-512-gb/p/itmdf0ffb4f2150f?pid=MOBFWBYZ4ZZ5VUQD&lid=LSTMOBFWBYZ4ZZ5VUQDSMPMJK&marketplace=FLIPKART&q=iphone12pro&store=tyy%2F4io&srno=s_1_8&otracker=search&fm=organic&iid=5d65d8f8-fce6-41f3-96de-984962320002.MOBFWBYZ4ZZ5VUQD.SEARCH&ppt=None&ppn=None&ssid=7pkit83uj40000001752589452942&qH=712933e6bd68e7b9\n",
      "https://www.flipkart.com/apple-iphone-12-pro-pacific-blue-128-gb/p/itm97c833296c221?pid=MOBFWBYZXYSCEEEH&lid=LSTMOBFWBYZXYSCEEEHLGQLJT&marketplace=FLIPKART&q=iphone12pro&store=tyy%2F4io&srno=s_1_9&otracker=search&fm=organic&iid=5d65d8f8-fce6-41f3-96de-984962320002.MOBFWBYZXYSCEEEH.SEARCH&ppt=None&ppn=None&ssid=7pkit83uj40000001752589452942&qH=712933e6bd68e7b9\n",
      "https://www.flipkart.com/apple-iphone-12-pro-graphite-128-gb/p/itm03e5f2595d843?pid=MOBFWBYZBZ7Y56WD&lid=LSTMOBFWBYZBZ7Y56WDLRWIKS&marketplace=FLIPKART&q=iphone12pro&store=tyy%2F4io&srno=s_1_10&otracker=search&fm=organic&iid=5d65d8f8-fce6-41f3-96de-984962320002.MOBFWBYZBZ7Y56WD.SEARCH&ppt=None&ppn=None&ssid=7pkit83uj40000001752589452942&qH=712933e6bd68e7b9\n",
      "https://www.flipkart.com/apple-iphone-12-pro-silver-128-gb/p/itmaebc8a0edc292?pid=MOBFWBYZSGN526X4&lid=LSTMOBFWBYZSGN526X4XSCKOE&marketplace=FLIPKART&q=iphone12pro&store=tyy%2F4io&srno=s_1_11&otracker=search&fm=organic&iid=5d65d8f8-fce6-41f3-96de-984962320002.MOBFWBYZSGN526X4.SEARCH&ppt=None&ppn=None&ssid=7pkit83uj40000001752589452942&qH=712933e6bd68e7b9\n",
      "https://www.flipkart.com/apple-iphone-12-pro-gold-256-gb/p/itm43a6a8ee7a1e7?pid=MOBFWBYZ9NGKZS9W&lid=LSTMOBFWBYZ9NGKZS9WYZ2SXA&marketplace=FLIPKART&q=iphone12pro&store=tyy%2F4io&srno=s_1_12&otracker=search&fm=organic&iid=5d65d8f8-fce6-41f3-96de-984962320002.MOBFWBYZ9NGKZS9W.SEARCH&ppt=None&ppn=None&ssid=7pkit83uj40000001752589452942&qH=712933e6bd68e7b9\n",
      "https://www.flipkart.com/apple-iphone-12-pro-max-pacific-blue-128-gb/p/itmd89812b558a03?pid=MOBFWBYZZABKHZQA&lid=LSTMOBFWBYZZABKHZQACQ9MLL&marketplace=FLIPKART&q=iphone12pro&store=tyy%2F4io&srno=s_1_13&otracker=search&fm=organic&iid=5d65d8f8-fce6-41f3-96de-984962320002.MOBFWBYZZABKHZQA.SEARCH&ppt=None&ppn=None&ssid=7pkit83uj40000001752589452942&qH=712933e6bd68e7b9\n",
      "https://www.flipkart.com/apple-iphone-12-pro-max-graphite-256-gb/p/itm8dbdf0b986725?pid=MOBFWBYZEF6XQ5ZW&lid=LSTMOBFWBYZEF6XQ5ZWBZ3ZKD&marketplace=FLIPKART&q=iphone12pro&store=tyy%2F4io&srno=s_1_14&otracker=search&fm=organic&iid=5d65d8f8-fce6-41f3-96de-984962320002.MOBFWBYZEF6XQ5ZW.SEARCH&ppt=None&ppn=None&ssid=7pkit83uj40000001752589452942&qH=712933e6bd68e7b9\n",
      "https://www.flipkart.com/apple-iphone-12-pro-max-gold-128-gb/p/itme3ae592065711?pid=MOBFWBYZQVKT77YH&lid=LSTMOBFWBYZQVKT77YHP1ERRT&marketplace=FLIPKART&q=iphone12pro&store=tyy%2F4io&srno=s_1_15&otracker=search&fm=organic&iid=5d65d8f8-fce6-41f3-96de-984962320002.MOBFWBYZQVKT77YH.SEARCH&ppt=None&ppn=None&ssid=7pkit83uj40000001752589452942&qH=712933e6bd68e7b9\n",
      "https://www.flipkart.com/apple-iphone-12-pro-max-pacific-blue-512-gb/p/itme005d7afeb4a3?pid=MOBFWBYZPW4KW4XX&lid=LSTMOBFWBYZPW4KW4XXXYHC14&marketplace=FLIPKART&q=iphone12pro&store=tyy%2F4io&srno=s_1_16&otracker=search&fm=organic&iid=5d65d8f8-fce6-41f3-96de-984962320002.MOBFWBYZPW4KW4XX.SEARCH&ppt=None&ppn=None&ssid=7pkit83uj40000001752589452942&qH=712933e6bd68e7b9\n",
      "https://www.flipkart.com/apple-iphone-12-pro-max-gold-512-gb/p/itmd164e2fef2871?pid=MOBFWBYZ4AG3FGNW&lid=LSTMOBFWBYZ4AG3FGNWL6UEHL&marketplace=FLIPKART&q=iphone12pro&store=tyy%2F4io&srno=s_1_17&otracker=search&fm=organic&iid=5d65d8f8-fce6-41f3-96de-984962320002.MOBFWBYZ4AG3FGNW.SEARCH&ppt=None&ppn=None&ssid=7pkit83uj40000001752589452942&qH=712933e6bd68e7b9\n",
      "https://www.flipkart.com/apple-iphone-12-pro-max-gold-256-gb/p/itm1e0354f5bbc8c?pid=MOBFWBYZZPW8JHQF&lid=LSTMOBFWBYZZPW8JHQFVJR3PO&marketplace=FLIPKART&q=iphone12pro&store=tyy%2F4io&srno=s_1_18&otracker=search&fm=organic&iid=5d65d8f8-fce6-41f3-96de-984962320002.MOBFWBYZZPW8JHQF.SEARCH&ppt=None&ppn=None&ssid=7pkit83uj40000001752589452942&qH=712933e6bd68e7b9\n",
      "https://www.flipkart.com/apple-iphone-12-pro-max-silver-512-gb/p/itm5d3d37892544f?pid=MOBFWBYZW38NGPNM&lid=LSTMOBFWBYZW38NGPNMW4SVPI&marketplace=FLIPKART&q=iphone12pro&store=tyy%2F4io&srno=s_1_19&otracker=search&fm=organic&iid=5d65d8f8-fce6-41f3-96de-984962320002.MOBFWBYZW38NGPNM.SEARCH&ppt=None&ppn=None&ssid=7pkit83uj40000001752589452942&qH=712933e6bd68e7b9\n",
      "https://www.flipkart.com/apple-iphone-12-pro-max-silver-128-gb/p/itm5a51ba742a17e?pid=MOBFWBYZNSNVGGZC&lid=LSTMOBFWBYZNSNVGGZCTPGZZU&marketplace=FLIPKART&q=iphone12pro&store=tyy%2F4io&srno=s_1_20&otracker=search&fm=organic&iid=5d65d8f8-fce6-41f3-96de-984962320002.MOBFWBYZNSNVGGZC.SEARCH&ppt=None&ppn=None&ssid=7pkit83uj40000001752589452942&qH=712933e6bd68e7b9\n",
      "https://www.flipkart.com/apple-iphone-12-pro-max-silver-256-gb/p/itm30faf74442adb?pid=MOBFWBYZZH4AM8FE&lid=LSTMOBFWBYZZH4AM8FETYFBOG&marketplace=FLIPKART&q=iphone12pro&store=tyy%2F4io&srno=s_1_21&otracker=search&fm=organic&iid=5d65d8f8-fce6-41f3-96de-984962320002.MOBFWBYZZH4AM8FE.SEARCH&ppt=None&ppn=None&ssid=7pkit83uj40000001752589452942&qH=712933e6bd68e7b9\n",
      "https://www.flipkart.com/apple-iphone-12-pro-max-pacific-blue-256-gb/p/itm3a0860c94250e?pid=MOBFWBYZ8STJXCVT&lid=LSTMOBFWBYZ8STJXCVTQTZADP&marketplace=FLIPKART&q=iphone12pro&store=tyy%2F4io&srno=s_1_22&otracker=search&fm=organic&iid=5d65d8f8-fce6-41f3-96de-984962320002.MOBFWBYZ8STJXCVT.SEARCH&ppt=None&ppn=None&ssid=7pkit83uj40000001752589452942&qH=712933e6bd68e7b9\n",
      "https://www.flipkart.com/apple-iphone-12-pro-max-graphite-512-gb/p/itm52a5e8e630441?pid=MOBFWBYZZZ6DWWFZ&lid=LSTMOBFWBYZZZ6DWWFZJWJVPK&marketplace=FLIPKART&q=iphone12pro&store=tyy%2F4io&srno=s_1_23&otracker=search&fm=organic&iid=5d65d8f8-fce6-41f3-96de-984962320002.MOBFWBYZZZ6DWWFZ.SEARCH&ppt=None&ppn=None&ssid=7pkit83uj40000001752589452942&qH=712933e6bd68e7b9\n",
      "https://www.flipkart.com/apple-iphone-12-pro-max-graphite-128-gb/p/itm973c298184f51?pid=MOBFWBYZFDGQSDWS&lid=LSTMOBFWBYZFDGQSDWSWMBEA6&marketplace=FLIPKART&q=iphone12pro&store=tyy%2F4io&srno=s_1_24&otracker=search&fm=organic&iid=5d65d8f8-fce6-41f3-96de-984962320002.MOBFWBYZFDGQSDWS.SEARCH&ppt=None&ppn=None&ssid=7pkit83uj40000001752589452942&qH=712933e6bd68e7b9\n"
     ]
    },
    {
     "ename": "AttributeError",
     "evalue": "'NoneType' object has no attribute 'a'",
     "output_type": "error",
     "traceback": [
      "\u001b[1;31m---------------------------------------------------------------------------\u001b[0m",
      "\u001b[1;31mAttributeError\u001b[0m                            Traceback (most recent call last)",
      "Cell \u001b[1;32mIn[46], line 2\u001b[0m\n\u001b[0;32m      1\u001b[0m \u001b[38;5;28;01mfor\u001b[39;00m i \u001b[38;5;129;01min\u001b[39;00m bigbox:\n\u001b[1;32m----> 2\u001b[0m     \u001b[38;5;28mprint\u001b[39m(\u001b[38;5;124m\"\u001b[39m\u001b[38;5;124mhttps://www.flipkart.com\u001b[39m\u001b[38;5;124m\"\u001b[39m \u001b[38;5;241m+\u001b[39m \u001b[43mi\u001b[49m\u001b[38;5;241;43m.\u001b[39;49m\u001b[43mdiv\u001b[49m\u001b[38;5;241;43m.\u001b[39;49m\u001b[43mdiv\u001b[49m\u001b[38;5;241;43m.\u001b[39;49m\u001b[43mdiv\u001b[49m\u001b[38;5;241;43m.\u001b[39;49m\u001b[43ma\u001b[49m[\u001b[38;5;124m\"\u001b[39m\u001b[38;5;124mhref\u001b[39m\u001b[38;5;124m\"\u001b[39m])\n",
      "\u001b[1;31mAttributeError\u001b[0m: 'NoneType' object has no attribute 'a'"
     ]
    }
   ],
   "source": [
    "for i in bigbox:\n",
    "    print(\"https://www.flipkart.com\" + i.comment_box.div.find_all('p',{\"class\":\"z9E0IG\"}))"
   ]
  },
  {
   "cell_type": "code",
   "execution_count": null,
   "id": "7a5b1e2a-5a14-4dff-8a72-9baa58d58c4d",
   "metadata": {},
   "outputs": [],
   "source": []
  },
  {
   "cell_type": "code",
   "execution_count": null,
   "id": "f154f650-28fe-4c69-91e6-406bfdcc5f90",
   "metadata": {},
   "outputs": [],
   "source": []
  }
 ],
 "metadata": {
  "kernelspec": {
   "display_name": "Python 3 (ipykernel)",
   "language": "python",
   "name": "python3"
  },
  "language_info": {
   "codemirror_mode": {
    "name": "ipython",
    "version": 3
   },
   "file_extension": ".py",
   "mimetype": "text/x-python",
   "name": "python",
   "nbconvert_exporter": "python",
   "pygments_lexer": "ipython3",
   "version": "3.13.1"
  }
 },
 "nbformat": 4,
 "nbformat_minor": 5
}
