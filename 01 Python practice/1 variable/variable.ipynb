{
 "cells": [
  {
   "cell_type": "markdown",
   "id": "e8c17fa5-8900-4568-b304-c317aca7c279",
   "metadata": {},
   "source": [
    "Q-1 is python case sensitive when dealing with identifiers? ans :- YES"
   ]
  },
  {
   "cell_type": "markdown",
   "id": "35c8390b-0849-43a7-aa75-fdff293ff59e",
   "metadata": {},
   "source": [
    "q-2 what is the maximum possible possible length of an identifier?\n",
    "ans- there is no length limit for identifer"
   ]
  },
  {
   "cell_type": "markdown",
   "id": "f99f2a1f-2edf-4609-9322-d60bdcdc6e7b",
   "metadata": {},
   "source": [
    "q-3 Print name, id , salary"
   ]
  },
  {
   "cell_type": "code",
   "execution_count": 2,
   "id": "5b9c0f75-8070-48f2-8565-02c487a3945f",
   "metadata": {},
   "outputs": [
    {
     "name": "stdout",
     "output_type": "stream",
     "text": [
      "aditya\n",
      "101\n",
      "15000\n"
     ]
    }
   ],
   "source": [
    "emp_name = \"aditya\"\n",
    "emp_id = 101\n",
    "emp_salary = 15000\n",
    "print(emp_name)\n",
    "print(emp_id)\n",
    "print(emp_salary)"
   ]
  },
  {
   "cell_type": "markdown",
   "id": "8db3cfba-c1e2-44a9-9ff2-5366d84109cf",
   "metadata": {},
   "source": [
    "Q- 4 below variavble names are valid or indalid"
   ]
  },
  {
   "cell_type": "code",
   "execution_count": 3,
   "id": "3dfd3870-6ab5-44f0-925d-735fd90d488b",
   "metadata": {},
   "outputs": [
    {
     "name": "stdout",
     "output_type": "stream",
     "text": [
      "1\n",
      "2\n",
      "3\n",
      "4\n"
     ]
    }
   ],
   "source": [
    "a = 1\n",
    "_a = 2\n",
    "__a = 3\n",
    "__a__ = 4\n",
    "print(a)\n",
    "print(_a)\n",
    "print(__a)\n",
    "print(__a__)"
   ]
  },
  {
   "cell_type": "markdown",
   "id": "e9ab19b7-eb55-4859-8b95-316efe8cf7ae",
   "metadata": {},
   "source": [
    "Q- 5 below variavble names are valid or indalid"
   ]
  },
  {
   "cell_type": "code",
   "execution_count": 4,
   "id": "0f7f3b51-499e-48a9-a127-02ff9c5069bc",
   "metadata": {},
   "outputs": [
    {
     "name": "stdout",
     "output_type": "stream",
     "text": [
      "aditya\n",
      "kunal\n",
      "ramesh\n"
     ]
    }
   ],
   "source": [
    "name = \"aditya\"\n",
    "name_1 = \"kunal\"\n",
    "_ = 'ramesh'\n",
    "print(name)\n",
    "print(name_1)\n",
    "print(_)"
   ]
  },
  {
   "cell_type": "code",
   "execution_count": 5,
   "id": "66403886-2c0c-4ff1-b823-ef18b4755413",
   "metadata": {},
   "outputs": [
    {
     "name": "stdout",
     "output_type": "stream",
     "text": [
      "(1, 2, 3)\n"
     ]
    }
   ],
   "source": [
    "a_b_c = 1,2,3\n",
    "print(a_b_c)"
   ]
  },
  {
   "cell_type": "code",
   "execution_count": 6,
   "id": "290fc52b-62c2-4b3e-b9ef-073380018fcd",
   "metadata": {},
   "outputs": [
    {
     "name": "stdout",
     "output_type": "stream",
     "text": [
      "1000 2000 3000\n"
     ]
    }
   ],
   "source": [
    "a,b,c = 1000,2000,3000\n",
    "print(a,b,c)"
   ]
  },
  {
   "cell_type": "code",
   "execution_count": 7,
   "id": "920de355-6eec-4d96-89ef-c16de052129b",
   "metadata": {},
   "outputs": [
    {
     "name": "stdout",
     "output_type": "stream",
     "text": [
      "1000 2000 3000\n"
     ]
    },
    {
     "ename": "TypeError",
     "evalue": "type.__new__() argument 1 must be str, not int",
     "output_type": "error",
     "traceback": [
      "\u001b[1;31m---------------------------------------------------------------------------\u001b[0m",
      "\u001b[1;31mTypeError\u001b[0m                                 Traceback (most recent call last)",
      "Cell \u001b[1;32mIn[7], line 3\u001b[0m\n\u001b[0;32m      1\u001b[0m a,b,c \u001b[38;5;241m=\u001b[39m \u001b[38;5;241m1000\u001b[39m,\u001b[38;5;241m2000\u001b[39m,\u001b[38;5;241m3000\u001b[39m\n\u001b[0;32m      2\u001b[0m \u001b[38;5;28mprint\u001b[39m(a,b,c)\n\u001b[1;32m----> 3\u001b[0m \u001b[38;5;28mprint\u001b[39m(\u001b[38;5;28;43mtype\u001b[39;49m\u001b[43m(\u001b[49m\u001b[43ma\u001b[49m\u001b[43m,\u001b[49m\u001b[43mb\u001b[49m\u001b[43m,\u001b[49m\u001b[43mc\u001b[49m\u001b[43m)\u001b[49m)\n",
      "\u001b[1;31mTypeError\u001b[0m: type.__new__() argument 1 must be str, not int"
     ]
    }
   ],
   "source": [
    "a,b,c = 1000,2000,3000\n",
    "print(a,b,c)\n",
    "print(type(a,b,c))"
   ]
  },
  {
   "cell_type": "code",
   "execution_count": 8,
   "id": "08ac889a-3a78-4ee6-8cbc-80de962826dd",
   "metadata": {},
   "outputs": [
    {
     "name": "stdout",
     "output_type": "stream",
     "text": [
      "1000 2000 3000\n",
      "<class 'int'>\n",
      "<class 'int'>\n",
      "<class 'int'>\n"
     ]
    }
   ],
   "source": [
    "a,b,c = 1000,2000,3000\n",
    "print(a,b,c)\n",
    "print(type(a))\n",
    "print(type(b))\n",
    "print(type(c))"
   ]
  },
  {
   "cell_type": "code",
   "execution_count": 9,
   "id": "758ca52a-da0c-428d-a5d9-a089f0748c76",
   "metadata": {},
   "outputs": [
    {
     "name": "stdout",
     "output_type": "stream",
     "text": [
      "(1, 2, 3)\n",
      "<class 'tuple'>\n"
     ]
    }
   ],
   "source": [
    "a_b_c = 1,2,3\n",
    "print(a_b_c)\n",
    "print(type(a_b_c))"
   ]
  },
  {
   "cell_type": "code",
   "execution_count": null,
   "id": "b40596b1-ff72-4fe0-bc1e-ec3772589cc3",
   "metadata": {},
   "outputs": [],
   "source": []
  }
 ],
 "metadata": {
  "kernelspec": {
   "display_name": "Python 3 (ipykernel)",
   "language": "python",
   "name": "python3"
  },
  "language_info": {
   "codemirror_mode": {
    "name": "ipython",
    "version": 3
   },
   "file_extension": ".py",
   "mimetype": "text/x-python",
   "name": "python",
   "nbconvert_exporter": "python",
   "pygments_lexer": "ipython3",
   "version": "3.13.1"
  }
 },
 "nbformat": 4,
 "nbformat_minor": 5
}
